{
  "nbformat": 4,
  "nbformat_minor": 0,
  "metadata": {
    "colab": {
      "name": "madry_attack.ipynb",
      "version": "0.3.2",
      "provenance": [],
      "collapsed_sections": [],
      "include_colab_link": true
    },
    "kernelspec": {
      "name": "python3",
      "display_name": "Python 3"
    },
    "accelerator": "GPU"
  },
  "cells": [
    {
      "cell_type": "markdown",
      "metadata": {
        "id": "view-in-github",
        "colab_type": "text"
      },
      "source": [
        "<a href=\"https://colab.research.google.com/github/kylematoba/GAN-Metrics/blob/master/madry_attack.ipynb\" target=\"_parent\"><img src=\"https://colab.research.google.com/assets/colab-badge.svg\" alt=\"Open In Colab\"/></a>"
      ]
    },
    {
      "cell_type": "code",
      "metadata": {
        "id": "U8RXnqM1HL-4",
        "colab_type": "code",
        "outputId": "9259672d-c515-424a-a198-eb539107208e",
        "colab": {
          "base_uri": "https://localhost:8080/",
          "height": 34
        }
      },
      "source": [
        "!git clone https://github.com/MadryLab/cifar10_challenge.git"
      ],
      "execution_count": 0,
      "outputs": [
        {
          "output_type": "stream",
          "text": [
            "fatal: destination path 'cifar10_challenge' already exists and is not an empty directory.\n"
          ],
          "name": "stdout"
        }
      ]
    },
    {
      "cell_type": "code",
      "metadata": {
        "id": "qd8afjL8Ia8-",
        "colab_type": "code",
        "outputId": "ed7c7374-3692-42a3-d299-3a6cce6da378",
        "colab": {
          "base_uri": "https://localhost:8080/",
          "height": 52
        }
      },
      "source": [
        "# !cd cifar10_challenge/\n",
        "%cd cifar10_challenge/\n",
        "# !pwd"
      ],
      "execution_count": 0,
      "outputs": [
        {
          "output_type": "stream",
          "text": [
            "/content/cifar10_challenge\n",
            "/content/cifar10_challenge\n"
          ],
          "name": "stdout"
        }
      ]
    },
    {
      "cell_type": "code",
      "metadata": {
        "id": "Yhi-hImCIhQ-",
        "colab_type": "code",
        "outputId": "5bc9a319-e58c-4444-e803-02ea300c5400",
        "colab": {
          "base_uri": "https://localhost:8080/",
          "height": 34
        }
      },
      "source": [
        "!ls cifar10_challenge"
      ],
      "execution_count": 0,
      "outputs": [
        {
          "output_type": "stream",
          "text": [
            "ls: cannot access 'cifar10_challenge': No such file or directory\n"
          ],
          "name": "stdout"
        }
      ]
    },
    {
      "cell_type": "code",
      "metadata": {
        "id": "yuZISNb7Hpln",
        "colab_type": "code",
        "outputId": "037bda12-59b1-4f08-8cf4-72085f878567",
        "colab": {
          "base_uri": "https://localhost:8080/",
          "height": 86
        }
      },
      "source": [
        "!python3 fetch_model.py adv_trained"
      ],
      "execution_count": 0,
      "outputs": [
        {
          "output_type": "stream",
          "text": [
            "Downloading models\n",
            "SHA256 hash: 996384ac78ec749673e43cb823b9fb837a4da8d529ed2ef98e8d94053529fa5d\n",
            "Extracting model\n",
            "Extracted model in models/\n"
          ],
          "name": "stdout"
        }
      ]
    },
    {
      "cell_type": "code",
      "metadata": {
        "id": "La9LkcBgJtj2",
        "colab_type": "code",
        "outputId": "01220663-0985-4004-a2a1-91920bfb6df9",
        "colab": {
          "base_uri": "https://localhost:8080/",
          "height": 54
        }
      },
      "source": [
        "import json\n",
        "\n",
        "with open('config.json') as json_file:  \n",
        "    config = json.load(json_file)\n",
        "\n",
        "config[\"model_dir\"] = \"models/adv_trained\"\n",
        "\n",
        "with open('config.json',  'w') as json_file:  \n",
        "    json.dump(config, json_file)  \n",
        "# with open('data.txt', 'w') as outfile:  \n",
        "#     json.dump(data, outfile)\n",
        "    \n",
        "!cat config.json\n",
        "# \"model_dir\": \"models/adv_trained\"."
      ],
      "execution_count": 0,
      "outputs": [
        {
          "output_type": "stream",
          "text": [
            "{\"_comment\": \"=====ADVERSARIAL EXAMPLES CONFIGURATION=====\", \"model_dir\": \"models/adv_trained\", \"data_path\": \"cifar10_data\", \"tf_random_seed\": 451760341, \"np_random_seed\": 216105420, \"max_num_training_steps\": 80000, \"num_output_steps\": 100, \"num_summary_steps\": 100, \"num_checkpoint_steps\": 1000, \"training_batch_size\": 128, \"step_size_schedule\": [[0, 0.1], [40000, 0.01], [60000, 0.001]], \"weight_decay\": 0.0002, \"momentum\": 0.9, \"num_eval_examples\": 10000, \"eval_batch_size\": 100, \"eval_on_cpu\": false, \"epsilon\": 8.0, \"num_steps\": 10, \"step_size\": 2.0, \"random_start\": true, \"loss_func\": \"xent\", \"store_adv_path\": \"attack.npy\"}"
          ],
          "name": "stdout"
        }
      ]
    },
    {
      "cell_type": "code",
      "metadata": {
        "id": "lf2EiKjVLBdl",
        "colab_type": "code",
        "outputId": "31e61281-815f-42df-a162-ab6c3d9727c6",
        "colab": {
          "base_uri": "https://localhost:8080/",
          "height": 34
        }
      },
      "source": [
        "!ls models\n"
      ],
      "execution_count": 0,
      "outputs": [
        {
          "output_type": "stream",
          "text": [
            "adv_trained\n"
          ],
          "name": "stdout"
        }
      ]
    },
    {
      "cell_type": "code",
      "metadata": {
        "id": "hYo9TIeNIUM3",
        "colab_type": "code",
        "outputId": "3f0ed384-d874-4c0f-f1d0-998fdd5a2b5b",
        "colab": {
          "base_uri": "https://localhost:8080/",
          "height": 2382
        }
      },
      "source": [
        "!python3 pgd_attack.py\n"
      ],
      "execution_count": 0,
      "outputs": [
        {
          "output_type": "stream",
          "text": [
            "WARNING:tensorflow:From /usr/local/lib/python3.6/dist-packages/tensorflow/python/ops/tensor_array_ops.py:162: colocate_with (from tensorflow.python.framework.ops) is deprecated and will be removed in a future version.\n",
            "Instructions for updating:\n",
            "Colocations handled automatically by placer.\n",
            "WARNING:tensorflow:From /usr/local/lib/python3.6/dist-packages/tensorflow/python/ops/image_ops_impl.py:1241: div (from tensorflow.python.ops.math_ops) is deprecated and will be removed in a future version.\n",
            "Instructions for updating:\n",
            "Deprecated in favor of operator or tf.math.divide.\n",
            "WARNING:tensorflow:From /content/cifar10_challenge/model.py:178: UniformUnitScaling.__init__ (from tensorflow.python.ops.init_ops) is deprecated and will be removed in a future version.\n",
            "Instructions for updating:\n",
            "Use tf.initializers.variance_scaling instead with distribution=uniform to get equivalent behavior.\n",
            "WARNING:tensorflow:From /usr/local/lib/python3.6/dist-packages/tensorflow/python/ops/math_ops.py:3066: to_int32 (from tensorflow.python.ops.math_ops) is deprecated and will be removed in a future version.\n",
            "Instructions for updating:\n",
            "Use tf.cast instead.\n",
            "2019-04-25 16:15:11.343941: I tensorflow/core/platform/profile_utils/cpu_utils.cc:94] CPU Frequency: 2300000000 Hz\n",
            "2019-04-25 16:15:11.344816: I tensorflow/compiler/xla/service/service.cc:150] XLA service 0x2a4e520 executing computations on platform Host. Devices:\n",
            "2019-04-25 16:15:11.344869: I tensorflow/compiler/xla/service/service.cc:158]   StreamExecutor device (0): <undefined>, <undefined>\n",
            "2019-04-25 16:15:11.554889: I tensorflow/stream_executor/cuda/cuda_gpu_executor.cc:998] successful NUMA node read from SysFS had negative value (-1), but there must be at least one NUMA node, so returning NUMA node zero\n",
            "2019-04-25 16:15:11.555833: I tensorflow/compiler/xla/service/service.cc:150] XLA service 0x2a4de40 executing computations on platform CUDA. Devices:\n",
            "2019-04-25 16:15:11.555878: I tensorflow/compiler/xla/service/service.cc:158]   StreamExecutor device (0): Tesla T4, Compute Capability 7.5\n",
            "2019-04-25 16:15:11.556521: I tensorflow/core/common_runtime/gpu/gpu_device.cc:1433] Found device 0 with properties: \n",
            "name: Tesla T4 major: 7 minor: 5 memoryClockRate(GHz): 1.59\n",
            "pciBusID: 0000:00:04.0\n",
            "totalMemory: 14.73GiB freeMemory: 13.07GiB\n",
            "2019-04-25 16:15:11.556567: I tensorflow/core/common_runtime/gpu/gpu_device.cc:1512] Adding visible gpu devices: 0\n",
            "2019-04-25 16:15:13.610222: I tensorflow/core/common_runtime/gpu/gpu_device.cc:984] Device interconnect StreamExecutor with strength 1 edge matrix:\n",
            "2019-04-25 16:15:13.610335: I tensorflow/core/common_runtime/gpu/gpu_device.cc:990]      0 \n",
            "2019-04-25 16:15:13.610357: I tensorflow/core/common_runtime/gpu/gpu_device.cc:1003] 0:   N \n",
            "2019-04-25 16:15:13.610907: W tensorflow/core/common_runtime/gpu/gpu_bfc_allocator.cc:42] Overriding allow_growth setting because the TF_FORCE_GPU_ALLOW_GROWTH environment variable is set. Original config value was 0.\n",
            "2019-04-25 16:15:13.611070: I tensorflow/core/common_runtime/gpu/gpu_device.cc:1115] Created TensorFlow device (/job:localhost/replica:0/task:0/device:GPU:0 with 12632 MB memory) -> physical GPU (device: 0, name: Tesla T4, pci bus id: 0000:00:04.0, compute capability: 7.5)\n",
            "WARNING:tensorflow:From /usr/local/lib/python3.6/dist-packages/tensorflow/python/training/saver.py:1266: checkpoint_exists (from tensorflow.python.training.checkpoint_management) is deprecated and will be removed in a future version.\n",
            "Instructions for updating:\n",
            "Use standard file APIs to check for files with this prefix.\n",
            "Iterating over 100 batches\n",
            "batch size: 100\n",
            "2019-04-25 16:15:15.685357: I tensorflow/stream_executor/dso_loader.cc:152] successfully opened CUDA library libcublas.so.10.0 locally\n",
            "batch size: 100\n",
            "batch size: 100\n",
            "batch size: 100\n",
            "batch size: 100\n",
            "batch size: 100\n",
            "batch size: 100\n",
            "batch size: 100\n",
            "batch size: 100\n",
            "batch size: 100\n",
            "batch size: 100\n",
            "batch size: 100\n",
            "batch size: 100\n",
            "batch size: 100\n",
            "batch size: 100\n",
            "batch size: 100\n",
            "batch size: 100\n",
            "batch size: 100\n",
            "batch size: 100\n",
            "batch size: 100\n",
            "batch size: 100\n",
            "batch size: 100\n",
            "batch size: 100\n",
            "batch size: 100\n",
            "batch size: 100\n",
            "batch size: 100\n",
            "batch size: 100\n",
            "batch size: 100\n",
            "batch size: 100\n",
            "batch size: 100\n",
            "batch size: 100\n",
            "batch size: 100\n",
            "batch size: 100\n",
            "batch size: 100\n",
            "batch size: 100\n",
            "batch size: 100\n",
            "batch size: 100\n",
            "batch size: 100\n",
            "batch size: 100\n",
            "batch size: 100\n",
            "batch size: 100\n",
            "batch size: 100\n",
            "batch size: 100\n",
            "batch size: 100\n",
            "batch size: 100\n",
            "batch size: 100\n",
            "batch size: 100\n",
            "batch size: 100\n",
            "batch size: 100\n",
            "batch size: 100\n",
            "batch size: 100\n",
            "batch size: 100\n",
            "batch size: 100\n",
            "batch size: 100\n",
            "batch size: 100\n",
            "batch size: 100\n",
            "batch size: 100\n",
            "batch size: 100\n",
            "batch size: 100\n",
            "batch size: 100\n",
            "batch size: 100\n",
            "batch size: 100\n",
            "batch size: 100\n",
            "batch size: 100\n",
            "batch size: 100\n",
            "batch size: 100\n",
            "batch size: 100\n",
            "batch size: 100\n",
            "batch size: 100\n",
            "batch size: 100\n",
            "batch size: 100\n",
            "batch size: 100\n",
            "batch size: 100\n",
            "batch size: 100\n",
            "batch size: 100\n",
            "batch size: 100\n",
            "batch size: 100\n",
            "batch size: 100\n",
            "batch size: 100\n",
            "batch size: 100\n",
            "batch size: 100\n",
            "batch size: 100\n",
            "batch size: 100\n",
            "batch size: 100\n",
            "batch size: 100\n",
            "batch size: 100\n",
            "batch size: 100\n",
            "batch size: 100\n",
            "batch size: 100\n",
            "batch size: 100\n",
            "batch size: 100\n",
            "batch size: 100\n",
            "batch size: 100\n",
            "batch size: 100\n",
            "batch size: 100\n",
            "batch size: 100\n",
            "batch size: 100\n",
            "batch size: 100\n",
            "batch size: 100\n",
            "batch size: 100\n",
            "Storing examples\n",
            "Examples stored in attack.npy\n"
          ],
          "name": "stdout"
        }
      ]
    },
    {
      "cell_type": "code",
      "metadata": {
        "id": "Y_Be8aK8W7Y0",
        "colab_type": "code",
        "outputId": "7b09a5c1-efcb-469a-ab5e-7d15e8620a26",
        "colab": {
          "base_uri": "https://localhost:8080/",
          "height": 575
        }
      },
      "source": [
        "# !ls\n",
        "!python3 run_attack.py"
      ],
      "execution_count": 0,
      "outputs": [
        {
          "output_type": "stream",
          "text": [
            "WARNING:tensorflow:From /usr/local/lib/python3.6/dist-packages/tensorflow/python/ops/tensor_array_ops.py:162: colocate_with (from tensorflow.python.framework.ops) is deprecated and will be removed in a future version.\n",
            "Instructions for updating:\n",
            "Colocations handled automatically by placer.\n",
            "WARNING:tensorflow:From /usr/local/lib/python3.6/dist-packages/tensorflow/python/ops/image_ops_impl.py:1241: div (from tensorflow.python.ops.math_ops) is deprecated and will be removed in a future version.\n",
            "Instructions for updating:\n",
            "Deprecated in favor of operator or tf.math.divide.\n",
            "WARNING:tensorflow:From /content/cifar10_challenge/model.py:178: UniformUnitScaling.__init__ (from tensorflow.python.ops.init_ops) is deprecated and will be removed in a future version.\n",
            "Instructions for updating:\n",
            "Use tf.initializers.variance_scaling instead with distribution=uniform to get equivalent behavior.\n",
            "2019-04-25 16:38:05.507522: I tensorflow/core/platform/profile_utils/cpu_utils.cc:94] CPU Frequency: 2300000000 Hz\n",
            "2019-04-25 16:38:05.511557: I tensorflow/compiler/xla/service/service.cc:150] XLA service 0x2fae520 executing computations on platform Host. Devices:\n",
            "2019-04-25 16:38:05.511624: I tensorflow/compiler/xla/service/service.cc:158]   StreamExecutor device (0): <undefined>, <undefined>\n",
            "2019-04-25 16:38:05.998681: I tensorflow/stream_executor/cuda/cuda_gpu_executor.cc:998] successful NUMA node read from SysFS had negative value (-1), but there must be at least one NUMA node, so returning NUMA node zero\n",
            "2019-04-25 16:38:05.999493: I tensorflow/compiler/xla/service/service.cc:150] XLA service 0x2fade40 executing computations on platform CUDA. Devices:\n",
            "2019-04-25 16:38:05.999530: I tensorflow/compiler/xla/service/service.cc:158]   StreamExecutor device (0): Tesla T4, Compute Capability 7.5\n",
            "2019-04-25 16:38:06.000183: I tensorflow/core/common_runtime/gpu/gpu_device.cc:1433] Found device 0 with properties: \n",
            "name: Tesla T4 major: 7 minor: 5 memoryClockRate(GHz): 1.59\n",
            "pciBusID: 0000:00:04.0\n",
            "totalMemory: 14.73GiB freeMemory: 13.07GiB\n",
            "2019-04-25 16:38:06.000219: I tensorflow/core/common_runtime/gpu/gpu_device.cc:1512] Adding visible gpu devices: 0\n",
            "2019-04-25 16:38:07.592110: I tensorflow/core/common_runtime/gpu/gpu_device.cc:984] Device interconnect StreamExecutor with strength 1 edge matrix:\n",
            "2019-04-25 16:38:07.592211: I tensorflow/core/common_runtime/gpu/gpu_device.cc:990]      0 \n",
            "2019-04-25 16:38:07.592228: I tensorflow/core/common_runtime/gpu/gpu_device.cc:1003] 0:   N \n",
            "2019-04-25 16:38:07.592671: W tensorflow/core/common_runtime/gpu/gpu_bfc_allocator.cc:42] Overriding allow_growth setting because the TF_FORCE_GPU_ALLOW_GROWTH environment variable is set. Original config value was 0.\n",
            "2019-04-25 16:38:07.597219: I tensorflow/core/common_runtime/gpu/gpu_device.cc:1115] Created TensorFlow device (/job:localhost/replica:0/task:0/device:GPU:0 with 12632 MB memory) -> physical GPU (device: 0, name: Tesla T4, pci bus id: 0000:00:04.0, compute capability: 7.5)\n",
            "WARNING:tensorflow:From /usr/local/lib/python3.6/dist-packages/tensorflow/python/training/saver.py:1266: checkpoint_exists (from tensorflow.python.training.checkpoint_management) is deprecated and will be removed in a future version.\n",
            "Instructions for updating:\n",
            "Use standard file APIs to check for files with this prefix.\n",
            "2019-04-25 16:38:09.736696: I tensorflow/stream_executor/dso_loader.cc:152] successfully opened CUDA library libcublas.so.10.0 locally\n",
            "Accuracy: 47.36%\n",
            "Output saved at pred.npy\n"
          ],
          "name": "stdout"
        }
      ]
    }
  ]
}